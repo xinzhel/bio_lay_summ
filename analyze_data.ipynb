{
 "cells": [
  {
   "cell_type": "code",
   "execution_count": 1,
   "metadata": {},
   "outputs": [
    {
     "name": "stdout",
     "output_type": "stream",
     "text": [
      "4346\n"
     ]
    }
   ],
   "source": [
    "import json\n",
    "file_path = \"task1/train/eLife_train.jsonl\"\n",
    "with open(file_path, 'r') as f:\n",
    "    lst = []\n",
    "    for line in f.readlines():\n",
    "        text = json.loads(line)\n",
    "        lst.append(text)\n",
    "print(len(lst))\n",
    "        "
   ]
  },
  {
   "cell_type": "code",
   "execution_count": 2,
   "metadata": {},
   "outputs": [
    {
     "name": "stdout",
     "output_type": "stream",
     "text": [
      "24773\n"
     ]
    }
   ],
   "source": [
    "import json\n",
    "file_path = \"task1/train/PLOS_train.jsonl\"\n",
    "with open(file_path, 'r') as f:\n",
    "    lst = []\n",
    "    for line in f.readlines():\n",
    "        text = json.loads(line)\n",
    "        lst.append(text)\n",
    "print(len(lst))\n",
    "        "
   ]
  },
  {
   "cell_type": "code",
   "execution_count": 12,
   "metadata": {},
   "outputs": [
    {
     "data": {
      "text/plain": [
       "2316"
      ]
     },
     "execution_count": 12,
     "metadata": {},
     "output_type": "execute_result"
    }
   ],
   "source": [
    "# training: text compression via ROUGH\n",
    "# Inference: train an extractor+summarization generation; truncate; hierarchical encoding; sparse attention\n",
    "len(lst[10]['article'].split())"
   ]
  },
  {
   "cell_type": "code",
   "execution_count": null,
   "metadata": {},
   "outputs": [],
   "source": []
  }
 ],
 "metadata": {
  "kernelspec": {
   "display_name": "baseline",
   "language": "python",
   "name": "python3"
  },
  "language_info": {
   "codemirror_mode": {
    "name": "ipython",
    "version": 3
   },
   "file_extension": ".py",
   "mimetype": "text/x-python",
   "name": "python",
   "nbconvert_exporter": "python",
   "pygments_lexer": "ipython3",
   "version": "3.7.9"
  },
  "orig_nbformat": 4,
  "vscode": {
   "interpreter": {
    "hash": "fa722aa51baa7ca1a14ae10c51947100c8742c9283df2adfc9442d206b591bbe"
   }
  }
 },
 "nbformat": 4,
 "nbformat_minor": 2
}
