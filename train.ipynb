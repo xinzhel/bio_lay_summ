{
 "cells": [
  {
   "cell_type": "code",
   "execution_count": 7,
   "metadata": {},
   "outputs": [],
   "source": [
    "import json\n",
    "from transformers import AutoModelForSeq2SeqLM, PreTrainedTokenizerFast, AutoTokenizer\n",
    "from transformers.models.bart.modeling_bart import BartForConditionalGeneration\n",
    "\n",
    "# load data\n",
    "file_path = \"task1/train/eLife_train.jsonl\"\n",
    "with open(file_path, 'r') as f:\n",
    "    lst = []\n",
    "    for line in f.readlines():\n",
    "        text = json.loads(line)\n",
    "        lst.append(text)"
   ]
  },
  {
   "cell_type": "code",
   "execution_count": 19,
   "metadata": {},
   "outputs": [
    {
     "data": {
      "text/plain": [
       "'<s>'"
      ]
     },
     "execution_count": 19,
     "metadata": {},
     "output_type": "execute_result"
    }
   ],
   "source": [
    "# load model\n",
    "tokenizer = PreTrainedTokenizerFast.from_pretrained(\"facebook/bart-base\") # no <pad> token\n",
    "tokenizer = AutoTokenizer.from_pretrained(\"facebook/bart-base\")\n",
    "bart = BartForConditionalGeneration.from_pretrained(\"facebook/bart-base\")"
   ]
  },
  {
   "cell_type": "code",
   "execution_count": 45,
   "metadata": {},
   "outputs": [],
   "source": [
    "# text encoding\n",
    "# with tokenizer.as_target_tokenizer(): # same behaviour with/w.o context manager\n",
    "summary = tokenizer([lst[0]['lay_summary']], return_tensors=\"pt\", padding=\"longest\" ) \n",
    "target_ids, target_mask = summary[\"input_ids\"], summary[\"attention_mask\"] # (bsz, target_seq_len)\n",
    "\n",
    "article = tokenizer([lst[0]['article']], return_tensors=\"pt\", padding=\"max_length\", truncation=True )\n",
    "input_ids, attention_mask = article[\"input_ids\"], article[\"attention_mask\"] # (bsz, 1024)"
   ]
  },
  {
   "cell_type": "code",
   "execution_count": 51,
   "metadata": {},
   "outputs": [
    {
     "data": {
      "text/plain": [
       "torch.Size([1, 371])"
      ]
     },
     "execution_count": 51,
     "metadata": {},
     "output_type": "execute_result"
    }
   ],
   "source": [
    "import torch.functional as F\n",
    "def sequence_cross_entropy_with_logits(logits, shifted_target_ids, shifted_target_mask):\n",
    "    # flatten\n",
    "    logits_flat = logits.view(-1, logits.size(-1))\n",
    "    targets_flatten = shifted_target_ids.view(-1)\n",
    "    return F.cross_entropy(logits_flat, targets_flatten, shifted_target_mask)\n"
   ]
  },
  {
   "cell_type": "code",
   "execution_count": 60,
   "metadata": {},
   "outputs": [
    {
     "name": "stdout",
     "output_type": "stream",
     "text": [
      "torch.Size([1, 372])\n",
      "torch.Size([1, 371, 50265])\n"
     ]
    }
   ],
   "source": [
    "from typing import cast\n",
    "import torch\n",
    "bart_output = bart(\n",
    "    input_ids=input_ids, \n",
    "    attention_mask=attention_mask, \n",
    "    decoder_input_ids=target_ids[:, :-1].contiguous(),\n",
    "    decoder_attention_mask=target_mask[:, :-1].contiguous(),\n",
    "    use_cache=False,\n",
    "    return_dict=True \n",
    ")\n",
    "logits = bart_output.logits # (bsz, target_seq_len-1, vocab_size), '-1' for the last position\n",
    "shifted_target_ids =  target_ids[:, 1:].type(torch.LongTensor).contiguous() # (bsz, target_seq_len-1, vocab_size), '-1' for the first position\n",
    "shifted_target_mask = target_mask[:, 1:].type(torch.LongTensor).contiguous()\n",
    "loss = sequence_cross_entropy_with_logits(logits, shifted_target_ids, shifted_target_mask, shifted_target_mask)\n"
   ]
  },
  {
   "cell_type": "code",
   "execution_count": null,
   "metadata": {},
   "outputs": [],
   "source": []
  },
  {
   "cell_type": "code",
   "execution_count": null,
   "metadata": {},
   "outputs": [],
   "source": []
  }
 ],
 "metadata": {
  "kernelspec": {
   "display_name": "baseline",
   "language": "python",
   "name": "python3"
  },
  "language_info": {
   "codemirror_mode": {
    "name": "ipython",
    "version": 3
   },
   "file_extension": ".py",
   "mimetype": "text/x-python",
   "name": "python",
   "nbconvert_exporter": "python",
   "pygments_lexer": "ipython3",
   "version": "3.7.9"
  },
  "orig_nbformat": 4,
  "vscode": {
   "interpreter": {
    "hash": "fa722aa51baa7ca1a14ae10c51947100c8742c9283df2adfc9442d206b591bbe"
   }
  }
 },
 "nbformat": 4,
 "nbformat_minor": 2
}
