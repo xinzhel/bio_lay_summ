{
 "cells": [
  {
   "cell_type": "code",
   "execution_count": 7,
   "metadata": {},
   "outputs": [
    {
     "name": "stdout",
     "output_type": "stream",
     "text": [
      "Read data from :  data/task1/train/eLife_train.jsonl\n",
      "The number of data:  4346\n"
     ]
    }
   ],
   "source": [
    "from utils import read_data\n",
    "from transformers import AutoModelForSeq2SeqLM, PreTrainedTokenizerFast, AutoTokenizer\n",
    "from transformers.models.bart.modeling_bart import BartForConditionalGeneration\n",
    "import torch.functional as F\n",
    "import torch\n",
    "\n",
    "# load data\n",
    "file_path = \"data/task1/train/eLife_train.jsonl\"\n",
    "articles, summaries = read_data(file_path)"
   ]
  },
  {
   "attachments": {},
   "cell_type": "markdown",
   "metadata": {},
   "source": [
    "## Content Selection"
   ]
  },
  {
   "cell_type": "code",
   "execution_count": 5,
   "metadata": {},
   "outputs": [],
   "source": [
    "import numpy as np\n",
    "from rouge import Rouge\n",
    "from nltk import tokenize\n",
    "rouge_pltrdy = Rouge()\n",
    "\n",
    "\n",
    "def get_rouge2recall_scores_nopad(sentences, reference):\n",
    "    # rouge_pltrdy is case sensitive\n",
    "    reference = reference.lower()\n",
    "    scores = [None for _ in range(len(sentences))]\n",
    "    count_nonzero_rouge2recall = 0\n",
    "    for i, sent in enumerate(sentences):\n",
    "        sent = sent.lower()\n",
    "        try:\n",
    "            rouge_scores = rouge_pltrdy.get_scores(sent, reference)\n",
    "            scores[i]  = rouge_scores[0]['rouge-2']['r'] # rouge2recall\n",
    "        except ValueError:\n",
    "            scores[i] = 0.0\n",
    "        except RecursionError:\n",
    "            scores[i] = 0.5 # just assign 0.5 as this sentence is simply too long\n",
    "        if scores[i] > 0.0: count_nonzero_rouge2recall += 1\n",
    "    print('count_nonzero_rouge2recall=', count_nonzero_rouge2recall)\n",
    "    return np.array(scores)"
   ]
  },
  {
   "cell_type": "code",
   "execution_count": 79,
   "metadata": {},
   "outputs": [
    {
     "ename": "KeyError",
     "evalue": "0",
     "output_type": "error",
     "traceback": [
      "\u001b[0;31m---------------------------------------------------------------------------\u001b[0m",
      "\u001b[0;31mKeyError\u001b[0m                                  Traceback (most recent call last)",
      "\u001b[0;32m/tmp/ipykernel_184683/4070922401.py\u001b[0m in \u001b[0;36m<module>\u001b[0;34m\u001b[0m\n\u001b[1;32m      8\u001b[0m \u001b[0;31m# similarity by ROUGH\u001b[0m\u001b[0;34m\u001b[0m\u001b[0;34m\u001b[0m\u001b[0;34m\u001b[0m\u001b[0m\n\u001b[1;32m      9\u001b[0m \u001b[0mkeep_idx\u001b[0m \u001b[0;34m=\u001b[0m \u001b[0;34m[\u001b[0m\u001b[0;34m]\u001b[0m\u001b[0;34m\u001b[0m\u001b[0;34m\u001b[0m\u001b[0m\n\u001b[0;32m---> 10\u001b[0;31m \u001b[0mscores\u001b[0m \u001b[0;34m=\u001b[0m \u001b[0mget_rouge2recall_scores_nopad\u001b[0m\u001b[0;34m(\u001b[0m\u001b[0msentences\u001b[0m\u001b[0;34m,\u001b[0m \u001b[0mreference\u001b[0m\u001b[0;34m)\u001b[0m\u001b[0;34m\u001b[0m\u001b[0;34m\u001b[0m\u001b[0m\n\u001b[0m\u001b[1;32m     11\u001b[0m \u001b[0mnum_postive\u001b[0m \u001b[0;34m=\u001b[0m \u001b[0msum\u001b[0m\u001b[0;34m(\u001b[0m\u001b[0ma\u001b[0m \u001b[0;34m>\u001b[0m \u001b[0;36m0\u001b[0m \u001b[0;32mfor\u001b[0m \u001b[0ma\u001b[0m \u001b[0;32min\u001b[0m \u001b[0mscores\u001b[0m\u001b[0;34m)\u001b[0m\u001b[0;34m\u001b[0m\u001b[0;34m\u001b[0m\u001b[0m\n\u001b[1;32m     12\u001b[0m \u001b[0mrank\u001b[0m \u001b[0;34m=\u001b[0m \u001b[0mnp\u001b[0m\u001b[0;34m.\u001b[0m\u001b[0margsort\u001b[0m\u001b[0;34m(\u001b[0m\u001b[0mscores\u001b[0m\u001b[0;34m)\u001b[0m\u001b[0;34m[\u001b[0m\u001b[0;34m:\u001b[0m\u001b[0;34m:\u001b[0m\u001b[0;34m-\u001b[0m\u001b[0;36m1\u001b[0m\u001b[0;34m]\u001b[0m\u001b[0;34m[\u001b[0m\u001b[0;34m:\u001b[0m\u001b[0mnum_postive\u001b[0m\u001b[0;34m]\u001b[0m \u001b[0;31m# only consider positive ones\u001b[0m\u001b[0;34m\u001b[0m\u001b[0;34m\u001b[0m\u001b[0m\n",
      "\u001b[0;32m/tmp/ipykernel_184683/3841018312.py\u001b[0m in \u001b[0;36mget_rouge2recall_scores_nopad\u001b[0;34m(sentences, reference)\u001b[0m\n\u001b[1;32m     12\u001b[0m         \u001b[0;32mtry\u001b[0m\u001b[0;34m:\u001b[0m\u001b[0;34m\u001b[0m\u001b[0;34m\u001b[0m\u001b[0m\n\u001b[1;32m     13\u001b[0m             \u001b[0mrouge_scores\u001b[0m \u001b[0;34m=\u001b[0m \u001b[0mrouge_pltrdy\u001b[0m\u001b[0;34m.\u001b[0m\u001b[0mget_scores\u001b[0m\u001b[0;34m(\u001b[0m\u001b[0msent\u001b[0m\u001b[0;34m,\u001b[0m \u001b[0mreference\u001b[0m\u001b[0;34m)\u001b[0m\u001b[0;34m\u001b[0m\u001b[0;34m\u001b[0m\u001b[0m\n\u001b[0;32m---> 14\u001b[0;31m             \u001b[0mrouge2recall\u001b[0m \u001b[0;34m=\u001b[0m \u001b[0mrouge_scores\u001b[0m\u001b[0;34m[\u001b[0m\u001b[0;36m0\u001b[0m\u001b[0;34m]\u001b[0m\u001b[0;34m[\u001b[0m\u001b[0;34m'rouge-2'\u001b[0m\u001b[0;34m]\u001b[0m\u001b[0;34m[\u001b[0m\u001b[0;34m'r'\u001b[0m\u001b[0;34m]\u001b[0m\u001b[0;34m\u001b[0m\u001b[0;34m\u001b[0m\u001b[0m\n\u001b[0m\u001b[1;32m     15\u001b[0m             \u001b[0mscores\u001b[0m\u001b[0;34m[\u001b[0m\u001b[0mi\u001b[0m\u001b[0;34m]\u001b[0m \u001b[0;34m=\u001b[0m \u001b[0mrouge2recall\u001b[0m\u001b[0;34m\u001b[0m\u001b[0;34m\u001b[0m\u001b[0m\n\u001b[1;32m     16\u001b[0m         \u001b[0;32mexcept\u001b[0m \u001b[0mValueError\u001b[0m\u001b[0;34m:\u001b[0m\u001b[0;34m\u001b[0m\u001b[0;34m\u001b[0m\u001b[0m\n",
      "\u001b[0;31mKeyError\u001b[0m: 0"
     ]
    }
   ],
   "source": [
    "# select silient sentences\n",
    "bart_tokenizer = AutoTokenizer.from_pretrained('facebook/bart-large')\n",
    "sentences = tokenize.sent_tokenize(articles[0])\n",
    "reference = summaries[0]\n",
    "max_abssum_len = 1024-2\n",
    "\n",
    "## rank by ROUGH\n",
    "keep_idx = []\n",
    "scores = get_rouge2recall_scores_nopad(sentences, reference)\n",
    "num_postive = sum(a > 0 for a in scores)\n",
    "rank = np.argsort(scores)[::-1][:num_postive] # only consider positive ones\n",
    "\n",
    "## select high-ranked sentences\n",
    "keep_idx = []\n",
    "total_length = 0\n",
    "for sent_i in rank:\n",
    "    if total_length < max_abssum_len:\n",
    "        sent = sentences[sent_i]\n",
    "        total_length += len(bart_tokenizer.encode(sent)[1:-1]) # ignore <s> and </s>\n",
    "        keep_idx.append(sent_i)\n",
    "    else:\n",
    "        break\n",
    "\n",
    "## if found nothing, selecting the top3 longest sentences\n",
    "if len(keep_idx) == 0:\n",
    "    sent_lengths = [len(tokenize.word_tokenize(ssent)) for ssent in sentences]\n",
    "    keep_idx = np.argsort(sent_lengths)[::-1][:3].tolist()\n",
    "\n",
    "keep_idx = sorted(keep_idx)\n",
    "filtered_sentences = [sentences[j] for j in keep_idx]\n",
    "filtered_input_text = \" \".join(filtered_sentences)\n",
    "\n",
    "# with open(out_path, \"w\") as f:\n",
    "#     f.write(filtered_input_text)\n",
    "# print(\"write:\", out_path)"
   ]
  },
  {
   "attachments": {},
   "cell_type": "markdown",
   "metadata": {},
   "source": [
    "## Train BART"
   ]
  },
  {
   "cell_type": "code",
   "execution_count": null,
   "metadata": {},
   "outputs": [],
   "source": [
    "# load model\n",
    "tokenizer = PreTrainedTokenizerFast.from_pretrained(\"facebook/bart-base\") # no <pad> token\n",
    "tokenizer = AutoTokenizer.from_pretrained(\"facebook/bart-base\")\n",
    "bart = BartForConditionalGeneration.from_pretrained(\"facebook/bart-base\")\n",
    "\n",
    "# text encoding\n",
    "# with tokenizer.as_target_tokenizer(): # same behaviour with/w.o context manager\n",
    "summary = tokenizer([lst[0]['lay_summary']], return_tensors=\"pt\", padding=\"longest\" ) \n",
    "target_ids, target_mask = summary[\"input_ids\"], summary[\"attention_mask\"] # (bsz, target_seq_len)\n",
    "\n",
    "article = tokenizer([lst[0]['article']], return_tensors=\"pt\", padding=\"max_length\", truncation=True )\n",
    "input_ids, attention_mask = article[\"input_ids\"], article[\"attention_mask\"] # (bsz, 1024)\n",
    "\n",
    "\n",
    "\n",
    "def sequence_cross_entropy_with_logits(logits, shifted_target_ids, shifted_target_mask):\n",
    "    # flatten\n",
    "    logits_flat = logits.view(-1, logits.size(-1))\n",
    "    targets_flatten = shifted_target_ids.view(-1)\n",
    "    return F.cross_entropy(logits_flat, targets_flatten, shifted_target_mask)\n",
    "\n",
    "\n",
    "\n",
    "bart_output = bart(\n",
    "    input_ids=input_ids, \n",
    "    attention_mask=attention_mask, \n",
    "    decoder_input_ids=target_ids[:, :-1].contiguous(),\n",
    "    decoder_attention_mask=target_mask[:, :-1].contiguous(),\n",
    "    use_cache=False,\n",
    "    return_dict=True \n",
    ")\n",
    "logits = bart_output.logits # (bsz, target_seq_len-1, vocab_size), '-1' for the last position\n",
    "shifted_target_ids =  target_ids[:, 1:].type(torch.LongTensor).contiguous() # (bsz, target_seq_len-1, vocab_size), '-1' for the first position\n",
    "shifted_target_mask = target_mask[:, 1:].type(torch.LongTensor).contiguous()\n",
    "loss = sequence_cross_entropy_with_logits(logits, shifted_target_ids, shifted_target_mask, shifted_target_mask)\n"
   ]
  }
 ],
 "metadata": {
  "kernelspec": {
   "display_name": "baseline",
   "language": "python",
   "name": "python3"
  },
  "language_info": {
   "codemirror_mode": {
    "name": "ipython",
    "version": 3
   },
   "file_extension": ".py",
   "mimetype": "text/x-python",
   "name": "python",
   "nbconvert_exporter": "python",
   "pygments_lexer": "ipython3",
   "version": "3.7.9"
  },
  "orig_nbformat": 4,
  "vscode": {
   "interpreter": {
    "hash": "fa722aa51baa7ca1a14ae10c51947100c8742c9283df2adfc9442d206b591bbe"
   }
  }
 },
 "nbformat": 4,
 "nbformat_minor": 2
}
